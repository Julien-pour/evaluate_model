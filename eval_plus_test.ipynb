{
 "cells": [
  {
   "cell_type": "code",
   "execution_count": 2,
   "metadata": {},
   "outputs": [
    {
     "name": "stderr",
     "output_type": "stream",
     "text": [
      "Special tokens have been added in the vocabulary, make sure the associated word embeddings are fine-tuned or trained.\n"
     ]
    }
   ],
   "source": [
    "from transformers import AutoTokenizer, AutoModelForCausalLM,TrainingArguments,LlamaTokenizer\n",
    "import torch\n",
    "output_dir=\"/home/flowers/work/hf/deepseek-coder-1.3b-instruct\"\n",
    "type_use=torch.bfloat16\n",
    "tokenizer = AutoTokenizer.from_pretrained(output_dir,local_files_only=True)\n",
    "model = AutoModelForCausalLM.from_pretrained(\n",
    "    output_dir,\n",
    "    torch_dtype=type_use,\n",
    "\n",
    "    # quantization_config=quantization_config,\n",
    "    device_map=\"auto\",\n",
    "    local_files_only=True\n",
    ")\n",
    "tokenizer.padding_side='left'\n",
    "tokenizer.pad_token = tokenizer.eos_token\n",
    "model.eval()\n",
    "model.config.use_cache = True\n"
   ]
  },
  {
   "cell_type": "code",
   "execution_count": 10,
   "metadata": {},
   "outputs": [],
   "source": [
    "prompt=\"\"\"You are an AI programming assistant, utilizing the DeepSeek Coder model, developed by DeepSeek Company, and you only answer questions related to computer science. For politically sensitive questions, security and privacy issues, and other non-computer science questions, you will refuse to answer.\n",
    "### Instruction:\n",
    "{instruction}\n",
    "### Response:\n",
    "\"\"\"\n",
    "prompt_eval=\"You need to write the entire code for the following problem in a code blocks (i.e.,within “```”):\\n\""
   ]
  },
  {
   "cell_type": "code",
   "execution_count": 16,
   "metadata": {},
   "outputs": [],
   "source": [
    "# from evalplus.data import get_human_eval_plus, write_jsonl\n",
    "\n",
    "# # len(get_human_eval_plus())\n",
    "# dic_puzzles = get_human_eval_plus()\n",
    "from evalplus.data import get_mbpp_plus, write_jsonl\n",
    "dic_puzzles=get_mbpp_plus()\n",
    "\n",
    "list_keys= list(dic_puzzles.keys())\n",
    "list_task_id = [dic_puzzles[key][\"task_id\"] for key in list(dic_puzzles.keys())]\n",
    "list_testset = [dic_puzzles[key][\"prompt\"] for key in list(dic_puzzles.keys())]\n"
   ]
  },
  {
   "cell_type": "code",
   "execution_count": 17,
   "metadata": {},
   "outputs": [
    {
     "name": "stderr",
     "output_type": "stream",
     "text": [
      "Setting `pad_token_id` to `eos_token_id`:32021 for open-end generation.\n"
     ]
    }
   ],
   "source": [
    "list_prompt=[prompt.format(instruction=prompt_eval+i) for i in list_testset[:2]]\n",
    "with torch.inference_mode():\n",
    "\n",
    "    inputs = tokenizer(list_prompt, return_tensors=\"pt\",padding=True).to(\"cuda\")\n",
    "\n",
    "    outputs = model.generate(**inputs,max_new_tokens=512,do_sample=True, temperature=0.7)\n",
    "    generated_texts = tokenizer.batch_decode(outputs, skip_special_tokens=True)\n"
   ]
  },
  {
   "cell_type": "code",
   "execution_count": 18,
   "metadata": {},
   "outputs": [
    {
     "name": "stdout",
     "output_type": "stream",
     "text": [
      "You are an AI programming assistant, utilizing the DeepSeek Coder model, developed by DeepSeek Company, and you only answer questions related to computer science. For politically sensitive questions, security and privacy issues, and other non-computer science questions, you will refuse to answer.\n",
      "### Instruction:\n",
      "You need to write the entire code for the following problem in a code blocks (i.e.,within “```”):\n",
      "\"\"\"\n",
      "Write a function to find the shared elements from the given two lists.\n",
      "assert set(similar_elements((3, 4, 5, 6),(5, 7, 4, 10))) == set((4, 5))\n",
      "\"\"\"\n",
      "\n",
      "### Response:\n",
      "Here is the Python code that solves the problem:\n",
      "\n",
      "```python\n",
      "def similar_elements(list1, list2):\n",
      "    # Convert lists to sets\n",
      "    set1 = set(list1)\n",
      "    set2 = set(list2)\n",
      "    \n",
      "    # Find the intersection of sets\n",
      "    common = set1 & set2\n",
      "    \n",
      "    # Convert the resulting set back to a list\n",
      "    common_list = list(common)\n",
      "    \n",
      "    return common_list\n",
      "\n",
      "# Test the function\n",
      "print(similar_elements((3, 4, 5, 6),(5, 7, 4, 10)))\n",
      "```\n",
      "\n",
      "This Python function, `similar_elements`, takes two lists as input. It first converts the input lists to sets. Then, it finds the intersection of the two sets (i.e., the common elements in both lists) and converts the resulting set back to a list. The function returns this list.\n",
      "\n",
      "The last two lines of the code are used to test the function with the provided test case. The expected output for the test case is `(4, 5)`, which is the shared elements in the two input lists.\n",
      "\n",
      "===\n",
      "\n",
      "\n",
      "You are an AI programming assistant, utilizing the DeepSeek Coder model, developed by DeepSeek Company, and you only answer questions related to computer science. For politically sensitive questions, security and privacy issues, and other non-computer science questions, you will refuse to answer.\n",
      "### Instruction:\n",
      "You need to write the entire code for the following problem in a code blocks (i.e.,within “```”):\n",
      "\"\"\"\n",
      "Write a python function to identify non-prime numbers.\n",
      "assert is_not_prime(2) == False\n",
      "\"\"\"\n",
      "\n",
      "### Response:\n",
      "Sure, here is the Python function to identify non-prime numbers.\n",
      "\n",
      "```python\n",
      "def is_not_prime(n):\n",
      "    if n <= 1:\n",
      "        return False\n",
      "    elif n <= 3:\n",
      "        return True\n",
      "    elif n % 2 == 0 or n % 3 == 0:\n",
      "        return False\n",
      "    i = 5\n",
      "    while i * i <= n:\n",
      "        if n % i == 0 or n % (i + 2) == 0:\n",
      "            return False\n",
      "        i += 6\n",
      "    return True\n",
      "```\n",
      "This function first checks if the number is less than or equal to 1, in which case it is not prime. Then it checks if the number is less than or equal to 3, in which case it is prime. If the number is divisible by 2 or 3, it is not prime. \n",
      "\n",
      "Then it starts a loop that checks if the number is divisible by any other number. If the number is divisible by i or i + 2, then it is not prime. Otherwise, it increments i by 6 each time to check for divisibility by 3, 5, 7, 9, etc. This is because all prime numbers are of the form 6k ± 1, and thus we only need to check the divisibility by 1, 2, 3, 4, and 5.\n",
      "\n",
      "===\n",
      "\n",
      "\n"
     ]
    }
   ],
   "source": [
    "for i in generated_texts:\n",
    "    print(i)\n",
    "    print(\"===\\n\\n\")    "
   ]
  },
  {
   "cell_type": "code",
   "execution_count": null,
   "metadata": {},
   "outputs": [],
   "source": []
  }
 ],
 "metadata": {
  "kernelspec": {
   "display_name": "inference",
   "language": "python",
   "name": "python3"
  },
  "language_info": {
   "codemirror_mode": {
    "name": "ipython",
    "version": 3
   },
   "file_extension": ".py",
   "mimetype": "text/x-python",
   "name": "python",
   "nbconvert_exporter": "python",
   "pygments_lexer": "ipython3",
   "version": "3.10.13"
  }
 },
 "nbformat": 4,
 "nbformat_minor": 2
}
